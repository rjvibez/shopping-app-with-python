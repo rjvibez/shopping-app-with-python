{
 "cells": [
  {
   "cell_type": "markdown",
   "id": "5a229ac4-15eb-4b47-9a17-2473193a8534",
   "metadata": {},
   "source": [
    "Problem Scenario: You have to develop a shopping application or e-commerce application which has login and public login features on the Python platform. The applications that have been developed should also include categories, such as 3–4 for footwear, clothing, electronics, etc. It should be possible to add and update categories in the application. Additionally, it must contain a feature that allows you to add or remove items from your cart. Finally, the program needs to support a variety of payment options, including UPI and debit cards. This should be only backend implementation, and UX/UI and database connectivity are not required.\r\n",
    "\r\n"
   ]
  },
  {
   "cell_type": "code",
   "execution_count": null,
   "id": "88a27eb9-768b-4999-926e-6d643fb47451",
   "metadata": {},
   "outputs": [],
   "source": [
    "# Welcome Message\n",
    "print(\"Welcome to the Demo Marketplace\")\n"
   ]
  },
  {
   "cell_type": "code",
   "execution_count": 2,
   "id": "09faf2a9-3aaf-41c3-8245-256474f45820",
   "metadata": {},
   "outputs": [],
   "source": [
    "# Sample Database\n",
    "users = [{'username': 'U1', 'password': 'P1'}, {'username': 'U2', 'password': 'P2'}]\n",
    "admins = [{'admin_username': 'admin1', 'password': 'adminpass1'}]\n",
    "categories = {'footwear': [], 'clothing': [], 'electronics': []}\n",
    "catalog = [\n",
    "    {'product_id': 1, 'name': 'Boots', 'category': 'footwear', 'price': 100},\n",
    "    {'product_id': 2, 'name': 'Jacket', 'category': 'clothing', 'price': 150},\n",
    "    {'product_id': 3, 'name': 'Smartphone', 'category': 'electronics', 'price': 500}\n",
    "]"
   ]
  },
  {
   "cell_type": "code",
   "execution_count": 3,
   "id": "9588407d-b301-4e9a-aaf8-03a6f9d3cee1",
   "metadata": {},
   "outputs": [],
   "source": [
    "carts = {}\n",
    "payments = ['Net_banking', 'PayPal', 'UPI', 'Debit_Card']"
   ]
  },
  {
   "cell_type": "code",
   "execution_count": 4,
   "id": "b57ae33a-df6f-4437-8bc6-5a747b7616ee",
   "metadata": {},
   "outputs": [],
   "source": [
    "# Add User Function\n",
    "def add_user(username, password):\n",
    "    for user in users:\n",
    "        if user['username'] == username:\n",
    "            print(\"Username already exists.\")\n",
    "            return False\n",
    "    users.append({'username': username, 'password': password})\n",
    "    print(f\"User {username} added successfully.\")\n",
    "    return True"
   ]
  },
  {
   "cell_type": "code",
   "execution_count": 5,
   "id": "923e706f-e524-47d1-a17a-713c23f3a70e",
   "metadata": {},
   "outputs": [],
   "source": [
    "# User Authentication\n",
    "def user_login(username, password):\n",
    "    for user in users:\n",
    "        if user['username'] == username and user['password'] == password:\n",
    "            print(\"User login successful\")\n",
    "            return True\n",
    "    print(\"Invalid username or password.\")\n",
    "    return False"
   ]
  },
  {
   "cell_type": "code",
   "execution_count": 6,
   "id": "deb532e0-2bf6-4ca3-bf22-a16ca1c476a5",
   "metadata": {},
   "outputs": [],
   "source": [
    "# Admin Authentication\n",
    "def admin_login(admin_username, password):\n",
    "    for admin in admins:\n",
    "        if admin['admin_username'] == admin_username and admin['password'] == password:\n",
    "            print(\"Admin login successful\")\n",
    "            return True\n",
    "    print(\"Invalid admin credentials.\")\n",
    "    return False"
   ]
  },
  {
   "cell_type": "code",
   "execution_count": 7,
   "id": "6bd79f5b-70a0-4321-9597-bb871008597d",
   "metadata": {},
   "outputs": [],
   "source": [
    "# Catalog Management for Admin\n",
    "def add_product(admin_username, session_id, product_id, name, category, price):\n",
    "    if admin_login(admin_username, session_id):\n",
    "        if category in categories:\n",
    "            catalog.append({'product_id': product_id, 'name': name, 'category': category, 'price': price})\n",
    "            print(f\"Product '{name}' added successfully.\")\n",
    "        else:\n",
    "            print(f\"Category '{category}' does not exist.\")\n",
    "    else:\n",
    "        print(\"Admin access required.\")"
   ]
  },
  {
   "cell_type": "code",
   "execution_count": 8,
   "id": "50244659-614a-4e9e-b8c1-657a03bd33db",
   "metadata": {},
   "outputs": [],
   "source": [
    "def update_product(admin_username, session_id, product_id, new_name, new_price):\n",
    "    if admin_login(admin_username, session_id):\n",
    "        for product in catalog:\n",
    "            if product['product_id'] == product_id:\n",
    "                product['name'] = new_name\n",
    "                product['price'] = new_price\n",
    "                print(f\"Product {product_id} updated successfully.\")\n",
    "                return\n",
    "        print(f\"Product ID {product_id} not found.\")\n",
    "    else:\n",
    "        print(\"Admin access required.\")"
   ]
  },
  {
   "cell_type": "code",
   "execution_count": null,
   "id": "d6b5ad4d-ffd9-4079-9d6f-0649f1155925",
   "metadata": {},
   "outputs": [],
   "source": [
    "\n",
    "def remove_product(admin_username, session_id, product_id):\n",
    "    if admin_login(admin_username, session_id):\n",
    "        global catalog\n",
    "        catalog = [product for product in catalog if product['product_id'] != product_id]\n",
    "        print(f\"Product ID {product_id} removed.\")\n",
    "    else:\n",
    "        print(\"Admin access required.\")"
   ]
  },
  {
   "cell_type": "code",
   "execution_count": 9,
   "id": "d20e6a84-8f35-4049-9149-1675311d424f",
   "metadata": {},
   "outputs": [],
   "source": [
    "def add_category(admin_username, session_id, category_name):\n",
    "    if admin_login(admin_username, session_id):\n",
    "        if category_name not in categories:\n",
    "            categories[category_name] = []\n",
    "            print(f\"Category '{category_name}' added.\")\n",
    "        else:\n",
    "            print(f\"Category '{category_name}' already exists.\")\n",
    "    else:\n",
    "        print(\"Admin access required.\")"
   ]
  },
  {
   "cell_type": "code",
   "execution_count": 10,
   "id": "b57985b3-2971-48ac-b69f-cf42c6486f9a",
   "metadata": {},
   "outputs": [],
   "source": [
    "def remove_category(admin_username, session_id, category_name):\n",
    "    if admin_login(admin_username, session_id):\n",
    "        if category_name in categories:\n",
    "            del categories[category_name]\n",
    "            print(f\"Category '{category_name}' removed.\")\n",
    "        else:\n",
    "            print(f\"Category '{category_name}' does not exist.\")\n",
    "    else:\n",
    "        print(\"Admin access required.\")"
   ]
  },
  {
   "cell_type": "code",
   "execution_count": 24,
   "id": "9af24411-c172-4a80-8858-5037efb9ab43",
   "metadata": {},
   "outputs": [],
   "source": [
    "# Cart Management for Users\n",
    "def view_cart(username):\n",
    "    if username in carts:\n",
    "        print(f\"Cart for {username}: {carts[username]}\")\n",
    "    else:\n",
    "        print(f\"No items in {username}'s cart.\")\n",
    "\n",
    "def add_to_cart(username, product_id, quantity):\n",
    "    user_exists = any(user['username'] == username for user in users)\n",
    "    if not user_exists:\n",
    "        print(f\"User {username} does not exist.\")\n",
    "        return False\n",
    "\n",
    "    if username not in carts:\n",
    "        carts[username] = []\n",
    "\n",
    "    product = next((item for item in catalog if item['product_id'] == product_id), None)\n",
    "    if product:\n",
    "        carts[username].append({'product_id': product_id, 'name': product['name'], 'quantity': quantity})\n",
    "        print(f\"Added {quantity} of {product['name']} to {username}'s cart.\")\n",
    "    else:\n",
    "        print(f\"Product ID {product_id} not found.\")"
   ]
  },
  {
   "cell_type": "code",
   "execution_count": 25,
   "id": "46ed666d-be6f-403c-a10d-dbc6519c59a0",
   "metadata": {},
   "outputs": [],
   "source": [
    "def remove_from_cart(username, product_id):\n",
    "    if username in carts:\n",
    "        carts[username] = [item for item in carts[username] if item['product_id'] != product_id]\n",
    "        print(f\"Product ID {product_id} removed from {username}'s cart.\")\n",
    "    else:\n",
    "        print(f\"No cart found for user {username}.\")\n",
    "\n",
    "# Payment Checkout for Users\n",
    "def process_payment(username, amount, payment_method):\n",
    "    if payment_method in payments:\n",
    "        print(f\"Payment of {amount} using {payment_method} processed successfully.\")\n",
    "        print(\"Your order is successfully placed.\")\n",
    "    else:\n",
    "        print(\"Unsupported payment method.\")\n"
   ]
  },
  {
   "cell_type": "code",
   "execution_count": 26,
   "id": "83f1a036-b8a7-447f-8a20-b7b3e4ceaeb0",
   "metadata": {},
   "outputs": [
    {
     "name": "stdout",
     "output_type": "stream",
     "text": [
      "Admin login successful\n",
      "Admin login successful\n",
      "Product 'Laptop' added successfully.\n"
     ]
    }
   ],
   "source": [
    "# Example usage:\n",
    "# Admin adds a new product\n",
    "admin_login(\"admin1\", \"adminpass1\")\n",
    "add_product(\"admin1\", \"adminpass1\", 4, 'Laptop', 'electronics', 1200)\n"
   ]
  },
  {
   "cell_type": "code",
   "execution_count": 27,
   "id": "2aed1b8c-cda3-4c8d-99a0-bfd42b88cf16",
   "metadata": {},
   "outputs": [
    {
     "name": "stdout",
     "output_type": "stream",
     "text": [
      "User U3 added successfully.\n",
      "User login successful\n",
      "Added 2 of Laptop to U3's cart.\n",
      "Cart for U3: [{'product_id': 4, 'name': 'Laptop', 'quantity': 2}]\n",
      "Payment of 2400 using UPI processed successfully.\n",
      "Your order is successfully placed.\n"
     ]
    }
   ],
   "source": [
    "# User operations\n",
    "add_user(\"U3\", \"P3\")\n",
    "user_login(\"U3\", \"P3\")\n",
    "add_to_cart(\"U3\", 4, 2)  # Adding 2 laptops to cart\n",
    "view_cart(\"U3\")\n",
    "process_payment(\"U3\", 2400, 'UPI')"
   ]
  },
  {
   "cell_type": "code",
   "execution_count": 28,
   "id": "aae1b38e-0cde-45ac-bb38-502cc84cf2a5",
   "metadata": {},
   "outputs": [
    {
     "name": "stdout",
     "output_type": "stream",
     "text": [
      "Admin login successful\n",
      "Product 4 updated successfully.\n"
     ]
    }
   ],
   "source": [
    "# Admin updates product\n",
    "update_product(\"admin1\", \"adminpass1\", 4, \"Gaming Laptop\", 1500)"
   ]
  }
 ],
 "metadata": {
  "kernelspec": {
   "display_name": "Python 3 (ipykernel)",
   "language": "python",
   "name": "python3"
  },
  "language_info": {
   "codemirror_mode": {
    "name": "ipython",
    "version": 3
   },
   "file_extension": ".py",
   "mimetype": "text/x-python",
   "name": "python",
   "nbconvert_exporter": "python",
   "pygments_lexer": "ipython3",
   "version": "3.12.4"
  }
 },
 "nbformat": 4,
 "nbformat_minor": 5
}
